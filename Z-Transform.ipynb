{
 "cells": [
  {
   "cell_type": "markdown",
   "metadata": {
    "deletable": false,
    "editable": false,
    "nbgrader": {
     "checksum": "c9dd898178a10032b5190fc44051a15e",
     "grade": false,
     "grade_id": "Names",
     "locked": true,
     "schema_version": 1,
     "solution": false
    }
   },
   "source": [
    "### Group:\n",
    "    \n",
    "__Member1__\n",
    "\n",
    "__Member2__"
   ]
  },
  {
   "cell_type": "markdown",
   "metadata": {},
   "source": [
    "### Group:\n",
    "\n",
    "__Mihir Patil__\n",
    "\n",
    "__Sushma Devaramani__\n",
    "\n",
    "__Vishwas__"
   ]
  },
  {
   "cell_type": "markdown",
   "metadata": {
    "deletable": false,
    "editable": false,
    "nbgrader": {
     "checksum": "67ddad51d9b17b5199a43ff22601dd85",
     "grade": false,
     "grade_id": "Task1Description",
     "locked": true,
     "schema_version": 1,
     "solution": false
    }
   },
   "source": [
    "## Rabbit-Growth problem:\n",
    "\n",
    "We have a population $p(n)$ of rabbit pairs. Each rabbit pair gives birth to a new rabbit pair every season $n$.\n",
    "The start conditions are p(0) = 1 and p(1) = 2.\n",
    "\n",
    "### Task 1:\n",
    "Formulate the problem using a difference equation (how is the population in season $n$ related to the population in seasons $n+1$ and $n+2$ ) ? \n"
   ]
  },
  {
   "cell_type": "markdown",
   "metadata": {
    "deletable": false,
    "nbgrader": {
     "checksum": "d5b0276c96933873c5b74bcaebf428f6",
     "grade": true,
     "grade_id": "Task1",
     "locked": false,
     "points": 10,
     "schema_version": 1,
     "solution": true
    }
   },
   "source": [
    "The difference equation for the above problem is given by,\n",
    "\n",
    "$$\n",
    "\\begin{equation}\n",
    "    p_n = p r^{n-1}\n",
    "\\end{equation}\n",
    "$$\n",
    "\n",
    "where, $r$ is the common ratio.  \n",
    "\n",
    "The relation between $p_n$ and $p_{n+1}, p_{n+2}$ is given by,\n",
    "\n",
    "$$\n",
    "\\begin{equation}\n",
    "    p_{n+1} = r p_n \\\\\n",
    "    p_{n+2} = r^2 p_n\n",
    "\\end{equation}\n",
    "$$"
   ]
  },
  {
   "cell_type": "markdown",
   "metadata": {
    "deletable": false,
    "editable": false,
    "nbgrader": {
     "checksum": "f8ea7167a2d00ec5e157e6ab0496eab3",
     "grade": false,
     "grade_id": "Task2Description",
     "locked": true,
     "schema_version": 1,
     "solution": false
    }
   },
   "source": [
    "### Task 2: \n",
    "Plot the population for the first 10 years under the assumption that in season 0 there is one pair of rabbits.\n",
    "\n",
    "Use a recursive function and count the number of times the function calls itself. Plot this alongside the population."
   ]
  },
  {
   "cell_type": "code",
   "execution_count": 61,
   "metadata": {},
   "outputs": [],
   "source": [
    "import matplotlib.pyplot as plt"
   ]
  },
  {
   "cell_type": "code",
   "execution_count": 79,
   "metadata": {},
   "outputs": [],
   "source": [
    "def countit(stop_val,p,r,count):\n",
    "    if count <= stop_val:\n",
    "        pn = p*r**(count-1)\n",
    "        plt.bar(count,pn)\n",
    "        count = countit(stop_val,p,r,count+1) \n",
    "    plt.xlabel('Function calls (Seasons)')\n",
    "    plt.ylabel('Rabbit population in pairs')\n",
    "    return count"
   ]
  },
  {
   "cell_type": "code",
   "execution_count": 80,
   "metadata": {},
   "outputs": [
    {
     "data": {
      "image/png": "[encoded data removed]",
      "text/plain": [
       "<Figure size 432x288 with 1 Axes>"
      ]
     },
     "metadata": {
      "needs_background": "light"
     },
     "output_type": "display_data"
    }
   ],
   "source": [
    "count = 1\n",
    "p = 1\n",
    "r = 2\n",
    "stop_val = 10\n",
    "final_count = countit(stop_val,p,r,count)"
   ]
  },
  {
   "cell_type": "code",
   "execution_count": null,
   "metadata": {
    "deletable": false,
    "nbgrader": {
     "checksum": "d0aa4025add5332406955e6d8418adf2",
     "grade": true,
     "grade_id": "Task2",
     "locked": false,
     "points": 15,
     "schema_version": 1,
     "solution": true
    }
   },
   "outputs": [],
   "source": []
  },
  {
   "cell_type": "markdown",
   "metadata": {
    "deletable": false,
    "editable": false,
    "nbgrader": {
     "checksum": "b982c42b70e3b2e63e0518d0704bcc0c",
     "grade": false,
     "grade_id": "Task3Description",
     "locked": true,
     "schema_version": 1,
     "solution": false
    }
   },
   "source": [
    "## Z-Transform\n",
    "\n",
    "The Z-Transform of a function $f(n)$ is defined as:\n",
    "\n",
    "$F(z) = \\sum_{n=-\\infty}^{\\infty} \\frac{f(n)}{z^n}$\n",
    "\n",
    "(see also: https://en.wikipedia.org/wiki/Z-transform)\n",
    "\n",
    "Since we assume that for negative timesteps $n < 0$, there were no rabbit pairs we can use the unilateral Z-transform:\n",
    "\n",
    "$F(z) = \\sum_{n=0}^{\\infty} \\frac{f(n)}{z^n}$\n",
    "\n",
    "### Task 3:\n",
    "\n",
    "Write down the Z-transform for the difference equation found in Task 1. After simplifying there should be no summation signs left.\n",
    "(Hint: You can shift sums with different indices to combine them)"
   ]
  },
  {
   "cell_type": "markdown",
   "metadata": {
    "deletable": false,
    "nbgrader": {
     "checksum": "7f8e86c8bc91282516fea6af1bfccf9d",
     "grade": true,
     "grade_id": "Task3",
     "locked": false,
     "points": 40,
     "schema_version": 1,
     "solution": true
    }
   },
   "source": [
    "*Answer:*\n",
    "\n",
    "The unilateral z-transform is given by,\n",
    "\n",
    "$$\n",
    "\\begin{equation}\n",
    "F(Z) = \\sum_{n=0}^\\infty \\frac{P(n)}{z^n} = \\sum_{n=0}^\\infty \\frac{p r^{n-1}}{z^n} \\\\\n",
    "F(Z) = p \\big\\{ \\frac{1}{r} + \\frac{1}{z} + \\frac{r}{z} + \\big(\\frac{r}{z}\\big)^2 + .... + \\big(\\frac{r}{z}\\big)^n + ... \\infty \\big\\} \n",
    "\\end{equation}\n",
    "$$\n",
    "\n",
    "The simplified Z-transform is, $F(Z) = \\frac{p}{r} \\big( \\frac{z}{z-r} \\big)$\n"
   ]
  },
  {
   "cell_type": "markdown",
   "metadata": {
    "deletable": false,
    "editable": false,
    "nbgrader": {
     "checksum": "c06191bef235adfdeadc0bc5d6ac1a95",
     "grade": false,
     "grade_id": "Task4Description",
     "locked": true,
     "schema_version": 1,
     "solution": false
    }
   },
   "source": [
    "### Task 4:\n",
    "\n",
    "Use partial fraction decomposition to find a closed form expression for the Z-transform computed in Task 3.\n",
    "(Hint: You can do this with sympy http://mattpap.github.io/scipy-2011-tutorial/html/partfrac.html)\n",
    "\n",
    "Additional information about using partial fraction decomposition to find the inverse Z-transform can be found under https://dspcan.homestead.com/files/Ztran/zinvpart.htm.\n",
    "\n",
    "First decompose the Z-transform using sympy into partial fractions and then use a lookup table for the inverse Z-transform to arrive at a closed form for the sequence p(n)."
   ]
  },
  {
   "cell_type": "code",
   "execution_count": 91,
   "metadata": {},
   "outputs": [
    {
     "data": {
      "text/latex": [
       "$\\displaystyle \\frac{1}{2} + \\frac{1}{z - 2}$"
      ],
      "text/plain": [
       "1/2 + 1/(z - 2)"
      ]
     },
     "execution_count": 91,
     "metadata": {},
     "output_type": "execute_result"
    }
   ],
   "source": [
    "import sympy as syp\n",
    "from sympy.abc import z\n",
    "\n",
    "#\n",
    "f = z/(2*(z - 2))\n",
    "\n",
    "f_ = apart(f)\n",
    "\n",
    "f_"
   ]
  },
  {
   "cell_type": "markdown",
   "metadata": {
    "deletable": false,
    "nbgrader": {
     "checksum": "a7ee7d19814de2fe0d1b375f3d435e52",
     "grade": true,
     "grade_id": "Task4",
     "locked": false,
     "points": 40,
     "schema_version": 1,
     "solution": true
    }
   },
   "source": [
    "From the lookup table, the closed form of the resulting sequence for the transform $F(Z) = \\frac{1}{(1-az^{-1})}$ is given by,\n",
    "\n",
    "$$ a^n u[n] $$"
   ]
  },
  {
   "cell_type": "code",
   "execution_count": 92,
   "metadata": {},
   "outputs": [
    {
     "data": {
      "text/latex": [
       "$\\displaystyle \\frac{z}{2 \\left(z - 2\\right)}$"
      ],
      "text/plain": [
       "z/(2*(z - 2))"
      ]
     },
     "execution_count": 92,
     "metadata": {},
     "output_type": "execute_result"
    }
   ],
   "source": [
    "together(f_)"
   ]
  },
  {
   "cell_type": "code",
   "execution_count": null,
   "metadata": {},
   "outputs": [],
   "source": []
  }
 ],
 "metadata": {
  "kernelspec": {
   "display_name": "Python 3",
   "language": "python",
   "name": "python3"
  },
  "language_info": {
   "codemirror_mode": {
    "name": "ipython",
    "version": 3
   },
   "file_extension": ".py",
   "mimetype": "text/x-python",
   "name": "python",
   "nbconvert_exporter": "python",
   "pygments_lexer": "ipython3",
   "version": "3.5.3"
  },
  "nbTranslate": {
   "displayLangs": [
    "*"
   ],
   "hotkey": "alt-t",
   "langInMainMenu": true,
   "sourceLang": "en",
   "targetLang": "fr",
   "useGoogleTranslate": true
  }
 },
 "nbformat": 4,
 "nbformat_minor": 2
}

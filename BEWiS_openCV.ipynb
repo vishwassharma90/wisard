{
 "cells": [
  {
   "cell_type": "code",
   "execution_count": 162,
   "metadata": {},
   "outputs": [],
   "source": [
    "#Numba#"
   ]
  },
  {
   "cell_type": "code",
   "execution_count": 3,
   "metadata": {},
   "outputs": [],
   "source": [
    "import numpy as np\n",
    "import cv2\n",
    "from matplotlib import pyplot as plt"
   ]
  },
  {
   "cell_type": "code",
   "execution_count": 4,
   "metadata": {},
   "outputs": [],
   "source": [
    "cap = cv2.VideoCapture('bird.avi')\n",
    " \n",
    "while(True):\n",
    "    ret, frame = cap.read()\n",
    "    gray = cv2.cvtColor(frame, cv2.COLOR_BGR2GRAY)\n",
    " \n",
    "    cv2.imshow('frame',gray)\n",
    "    if cv2.waitKey(1) & 0xFF == ord('q'):\n",
    "        break\n",
    "\n",
    "cap.release()\n",
    "cv2.destroyAllWindows()"
   ]
  },
  {
   "cell_type": "code",
   "execution_count": 71,
   "metadata": {},
   "outputs": [],
   "source": []
  },
  {
   "cell_type": "code",
   "execution_count": 1,
   "metadata": {},
   "outputs": [
    {
     "ename": "TypingError",
     "evalue": "Failed in nopython mode pipeline (step: nopython frontend)\nInvalid use of Function(<built-in function setitem>) with argument(s) of type(s): (readonly array(int32, 1d, C), int64, int32)\n * parameterized\nIn definition 0:\n    All templates rejected with literals.\nIn definition 1:\n    All templates rejected without literals.\nIn definition 2:\n    All templates rejected with literals.\nIn definition 3:\n    All templates rejected without literals.\nIn definition 4:\n    TypeError: Cannot modify value of type readonly array(int32, 1d, C)\n    raised from /home/iss/anaconda3/envs/tensorflow_gpuenv/lib/python3.6/site-packages/numba/typing/arraydecl.py:179\nIn definition 5:\n    TypeError: Cannot modify value of type readonly array(int32, 1d, C)\n    raised from /home/iss/anaconda3/envs/tensorflow_gpuenv/lib/python3.6/site-packages/numba/typing/arraydecl.py:179\nIn definition 6:\n    All templates rejected with literals.\nIn definition 7:\n    All templates rejected without literals.\nThis error is usually caused by passing an argument of a type that is unsupported by the named function.\n[1] During: typing of setitem at <ipython-input-1-ade7b758bf11> (37)\n\nFile \"<ipython-input-1-ade7b758bf11>\", line 37:\ndef bewis(frame):\n    <source elided>\n            if front[0][0]==pixel[0][0] and front[1][0]==pixel[1][0] and front[2][0]==pixel[2][0]:\n                w[i][j] = ID[i][j]\n                ^\n\nThis is not usually a problem with Numba itself but instead often caused by\nthe use of unsupported features or an issue in resolving types.\n\nTo see Python/NumPy features supported by the latest release of Numba visit:\nhttp://numba.pydata.org/numba-doc/dev/reference/pysupported.html\nand\nhttp://numba.pydata.org/numba-doc/dev/reference/numpysupported.html\n\nFor more information about typing errors and how to debug them visit:\nhttp://numba.pydata.org/numba-doc/latest/user/troubleshoot.html#my-code-doesn-t-compile\n\nIf you think your code should work with Numba, please report the error message\nand traceback, along with a minimal reproducer at:\nhttps://github.com/numba/numba/issues/new\n",
     "output_type": "error",
     "traceback": [
      "\u001b[0;31m---------------------------------------------------------------------------\u001b[0m",
      "\u001b[0;31mTypingError\u001b[0m                               Traceback (most recent call last)",
      "\u001b[0;32m<ipython-input-1-ade7b758bf11>\u001b[0m in \u001b[0;36m<module>\u001b[0;34m\u001b[0m\n\u001b[1;32m     49\u001b[0m     \u001b[0mcv2\u001b[0m\u001b[0;34m.\u001b[0m\u001b[0mimshow\u001b[0m\u001b[0;34m(\u001b[0m\u001b[0;34m'frame'\u001b[0m\u001b[0;34m,\u001b[0m\u001b[0mframe\u001b[0m\u001b[0;34m)\u001b[0m\u001b[0;34m\u001b[0m\u001b[0m\n\u001b[1;32m     50\u001b[0m \u001b[0;34m\u001b[0m\u001b[0m\n\u001b[0;32m---> 51\u001b[0;31m     \u001b[0mbewis\u001b[0m\u001b[0;34m(\u001b[0m\u001b[0mframe\u001b[0m\u001b[0;34m)\u001b[0m\u001b[0;34m\u001b[0m\u001b[0m\n\u001b[0m\u001b[1;32m     52\u001b[0m     \u001b[0;32mif\u001b[0m \u001b[0mcv2\u001b[0m\u001b[0;34m.\u001b[0m\u001b[0mwaitKey\u001b[0m\u001b[0;34m(\u001b[0m\u001b[0;36m1\u001b[0m\u001b[0;34m)\u001b[0m \u001b[0;34m&\u001b[0m \u001b[0;36m0xFF\u001b[0m \u001b[0;34m==\u001b[0m \u001b[0mord\u001b[0m\u001b[0;34m(\u001b[0m\u001b[0;34m'q'\u001b[0m\u001b[0;34m)\u001b[0m\u001b[0;34m:\u001b[0m\u001b[0;34m\u001b[0m\u001b[0m\n\u001b[1;32m     53\u001b[0m         \u001b[0;32mbreak\u001b[0m\u001b[0;34m\u001b[0m\u001b[0m\n",
      "\u001b[0;32m~/anaconda3/envs/tensorflow_gpuenv/lib/python3.6/site-packages/numba/dispatcher.py\u001b[0m in \u001b[0;36m_compile_for_args\u001b[0;34m(self, *args, **kws)\u001b[0m\n\u001b[1;32m    348\u001b[0m                 \u001b[0me\u001b[0m\u001b[0;34m.\u001b[0m\u001b[0mpatch_message\u001b[0m\u001b[0;34m(\u001b[0m\u001b[0mmsg\u001b[0m\u001b[0;34m)\u001b[0m\u001b[0;34m\u001b[0m\u001b[0m\n\u001b[1;32m    349\u001b[0m \u001b[0;34m\u001b[0m\u001b[0m\n\u001b[0;32m--> 350\u001b[0;31m             \u001b[0merror_rewrite\u001b[0m\u001b[0;34m(\u001b[0m\u001b[0me\u001b[0m\u001b[0;34m,\u001b[0m \u001b[0;34m'typing'\u001b[0m\u001b[0;34m)\u001b[0m\u001b[0;34m\u001b[0m\u001b[0m\n\u001b[0m\u001b[1;32m    351\u001b[0m         \u001b[0;32mexcept\u001b[0m \u001b[0merrors\u001b[0m\u001b[0;34m.\u001b[0m\u001b[0mUnsupportedError\u001b[0m \u001b[0;32mas\u001b[0m \u001b[0me\u001b[0m\u001b[0;34m:\u001b[0m\u001b[0;34m\u001b[0m\u001b[0m\n\u001b[1;32m    352\u001b[0m             \u001b[0;31m# Something unsupported is present in the user code, add help info\u001b[0m\u001b[0;34m\u001b[0m\u001b[0;34m\u001b[0m\u001b[0m\n",
      "\u001b[0;32m~/anaconda3/envs/tensorflow_gpuenv/lib/python3.6/site-packages/numba/dispatcher.py\u001b[0m in \u001b[0;36merror_rewrite\u001b[0;34m(e, issue_type)\u001b[0m\n\u001b[1;32m    315\u001b[0m                 \u001b[0;32mraise\u001b[0m \u001b[0me\u001b[0m\u001b[0;34m\u001b[0m\u001b[0m\n\u001b[1;32m    316\u001b[0m             \u001b[0;32melse\u001b[0m\u001b[0;34m:\u001b[0m\u001b[0;34m\u001b[0m\u001b[0m\n\u001b[0;32m--> 317\u001b[0;31m                 \u001b[0mreraise\u001b[0m\u001b[0;34m(\u001b[0m\u001b[0mtype\u001b[0m\u001b[0;34m(\u001b[0m\u001b[0me\u001b[0m\u001b[0;34m)\u001b[0m\u001b[0;34m,\u001b[0m \u001b[0me\u001b[0m\u001b[0;34m,\u001b[0m \u001b[0;32mNone\u001b[0m\u001b[0;34m)\u001b[0m\u001b[0;34m\u001b[0m\u001b[0m\n\u001b[0m\u001b[1;32m    318\u001b[0m \u001b[0;34m\u001b[0m\u001b[0m\n\u001b[1;32m    319\u001b[0m         \u001b[0margtypes\u001b[0m \u001b[0;34m=\u001b[0m \u001b[0;34m[\u001b[0m\u001b[0;34m]\u001b[0m\u001b[0;34m\u001b[0m\u001b[0m\n",
      "\u001b[0;32m~/anaconda3/envs/tensorflow_gpuenv/lib/python3.6/site-packages/numba/six.py\u001b[0m in \u001b[0;36mreraise\u001b[0;34m(tp, value, tb)\u001b[0m\n\u001b[1;32m    656\u001b[0m             \u001b[0mvalue\u001b[0m \u001b[0;34m=\u001b[0m \u001b[0mtp\u001b[0m\u001b[0;34m(\u001b[0m\u001b[0;34m)\u001b[0m\u001b[0;34m\u001b[0m\u001b[0m\n\u001b[1;32m    657\u001b[0m         \u001b[0;32mif\u001b[0m \u001b[0mvalue\u001b[0m\u001b[0;34m.\u001b[0m\u001b[0m__traceback__\u001b[0m \u001b[0;32mis\u001b[0m \u001b[0;32mnot\u001b[0m \u001b[0mtb\u001b[0m\u001b[0;34m:\u001b[0m\u001b[0;34m\u001b[0m\u001b[0m\n\u001b[0;32m--> 658\u001b[0;31m             \u001b[0;32mraise\u001b[0m \u001b[0mvalue\u001b[0m\u001b[0;34m.\u001b[0m\u001b[0mwith_traceback\u001b[0m\u001b[0;34m(\u001b[0m\u001b[0mtb\u001b[0m\u001b[0;34m)\u001b[0m\u001b[0;34m\u001b[0m\u001b[0m\n\u001b[0m\u001b[1;32m    659\u001b[0m         \u001b[0;32mraise\u001b[0m \u001b[0mvalue\u001b[0m\u001b[0;34m\u001b[0m\u001b[0m\n\u001b[1;32m    660\u001b[0m \u001b[0;34m\u001b[0m\u001b[0m\n",
      "\u001b[0;31mTypingError\u001b[0m: Failed in nopython mode pipeline (step: nopython frontend)\nInvalid use of Function(<built-in function setitem>) with argument(s) of type(s): (readonly array(int32, 1d, C), int64, int32)\n * parameterized\nIn definition 0:\n    All templates rejected with literals.\nIn definition 1:\n    All templates rejected without literals.\nIn definition 2:\n    All templates rejected with literals.\nIn definition 3:\n    All templates rejected without literals.\nIn definition 4:\n    TypeError: Cannot modify value of type readonly array(int32, 1d, C)\n    raised from /home/iss/anaconda3/envs/tensorflow_gpuenv/lib/python3.6/site-packages/numba/typing/arraydecl.py:179\nIn definition 5:\n    TypeError: Cannot modify value of type readonly array(int32, 1d, C)\n    raised from /home/iss/anaconda3/envs/tensorflow_gpuenv/lib/python3.6/site-packages/numba/typing/arraydecl.py:179\nIn definition 6:\n    All templates rejected with literals.\nIn definition 7:\n    All templates rejected without literals.\nThis error is usually caused by passing an argument of a type that is unsupported by the named function.\n[1] During: typing of setitem at <ipython-input-1-ade7b758bf11> (37)\n\nFile \"<ipython-input-1-ade7b758bf11>\", line 37:\ndef bewis(frame):\n    <source elided>\n            if front[0][0]==pixel[0][0] and front[1][0]==pixel[1][0] and front[2][0]==pixel[2][0]:\n                w[i][j] = ID[i][j]\n                ^\n\nThis is not usually a problem with Numba itself but instead often caused by\nthe use of unsupported features or an issue in resolving types.\n\nTo see Python/NumPy features supported by the latest release of Numba visit:\nhttp://numba.pydata.org/numba-doc/dev/reference/pysupported.html\nand\nhttp://numba.pydata.org/numba-doc/dev/reference/numpysupported.html\n\nFor more information about typing errors and how to debug them visit:\nhttp://numba.pydata.org/numba-doc/latest/user/troubleshoot.html#my-code-doesn-t-compile\n\nIf you think your code should work with Numba, please report the error message\nand traceback, along with a minimal reproducer at:\nhttps://github.com/numba/numba/issues/new\n"
     ]
    }
   ],
   "source": [
    "from numba import njit,jit\n",
    "import numpy as np\n",
    "import cv2\n",
    "import itertools\n",
    "\n",
    "cap = cv2.VideoCapture('bird.avi')\n",
    "\n",
    "quesize = 10\n",
    "stabilityqueue = np.zeros((480,640,quesize,3),dtype=np.int32)\n",
    "w = np.ndarray((480,640),dtype=np.int32)\n",
    "ID = np.ndarray((480,640),dtype=np.int32)\n",
    "queueLimits = np.zeros((480,640,2),dtype=np.int32)\n",
    "#print(stabilityqueue[:,:,0,:].shape)\n",
    "\n",
    "@njit\n",
    "def IsFoundinStabilityQueue(pixel):\n",
    "    for queueIndex in range(queueLimits[i,j,0],queueLimits[i,j,1]):\n",
    "        queuevalue = np.reshape(stabilityqueue[i,j,queueIndex,:],(3,1))\n",
    "        if queuevalue[0][0]==pixel[0][0] and queuevalue[1][0]==pixel[1][0] and queuevalue[2][0]==pixel[2][0]:\n",
    "            return True\n",
    "    return False\n",
    "    \n",
    "@njit\n",
    "def bewis(frame):\n",
    "    for i in range(frame.shape[0]):\n",
    "        for j in range(frame.shape[1]):\n",
    "            r,g,b = frame[i,j,:]\n",
    "            #create binary endoder for each pixel\n",
    "            a = np.zeros((256,3))\n",
    "            a[0:r,0] = 1\n",
    "            a[0:g,1] = 1\n",
    "            a[0:b,2] = 1\n",
    "            #check if pixel color is in front of stability queue\n",
    "            front = np.reshape(stabilityqueue[i,j,queueLimits[i,j,0],:],(3,1)) \n",
    "            pixel = np.reshape(frame[i,j,:],(3,1))\n",
    "            if front[0][0]==pixel[0][0] and front[1][0]==pixel[1][0] and front[2][0]==pixel[2][0]:\n",
    "                w[i][j] = ID[i][j]\n",
    "                #ID[i,j] += 1\n",
    "                x=0\n",
    "            #elif IsFoundinStabilityQueue(pixel):\n",
    "            #    x=0\n",
    "\n",
    "                            \n",
    "\n",
    "while(True):\n",
    "        \n",
    "    ret, frame = cap.read()\n",
    "    # Display the resulting frame\n",
    "    cv2.imshow('frame',frame)\n",
    "    \n",
    "    bewis(frame)\n",
    "    if cv2.waitKey(1) & 0xFF == ord('q'):\n",
    "        break\n",
    "\n",
    "# When everything done, release the capture\n",
    "cap.release()\n",
    "cv2.destroyAllWindows()\n",
    "\n",
    "\n",
    "'''\n",
    "    print(frame.shape)\n",
    "    for p in itertools.product(range(frame.shape[0]),range(frame.shape[1])):\n",
    "        print (p)\n",
    "        #r,g,b = frame[p[0],p[1],:]\n",
    "        #a = np.zeros((256,3))\n",
    "        #a[0:r,0] = 1  \n",
    "        #a[0:g,1] = 1\n",
    "        #a[0:b,2] = 1\n",
    "'''"
   ]
  },
  {
   "cell_type": "code",
   "execution_count": null,
   "metadata": {},
   "outputs": [],
   "source": []
  },
  {
   "cell_type": "code",
   "execution_count": null,
   "metadata": {},
   "outputs": [],
   "source": []
  },
  {
   "cell_type": "code",
   "execution_count": null,
   "metadata": {},
   "outputs": [],
   "source": []
  },
  {
   "cell_type": "code",
   "execution_count": 3,
   "metadata": {},
   "outputs": [],
   "source": [
    "import time\n",
    "from numba import njit,prange\n",
    "import numpy as np\n",
    "import random\n",
    "import tensorflow as tf"
   ]
  },
  {
   "cell_type": "code",
   "execution_count": 4,
   "metadata": {},
   "outputs": [],
   "source": [
    "def preprocessing(tx_train, ty_train, tx_test, ty_test):\n",
    "        \n",
    "    py_train = ty_train.flatten()\n",
    "    py_test = ty_test.flatten()\n",
    "    \n",
    "    px_test = tx_test.reshape(10000,input_size)\n",
    "    px_train = tx_train.reshape(60000,input_size)\n",
    "    \n",
    "    px_train = np.asarray(px_train).astype(np.int32)\n",
    "    py_train = np.asarray(py_train).astype(np.int32)\n",
    "    px_test = np.asarray(px_test).astype(np.int32)\n",
    "    py_test = np.asarray(py_test).astype(np.int32)\n",
    "\n",
    "    return px_train, py_train, px_test, py_test   \n"
   ]
  },
  {
   "cell_type": "code",
   "execution_count": 5,
   "metadata": {},
   "outputs": [],
   "source": [
    "class WiSARD:                                                     \n",
    "    \n",
    "    def __init__(self,input_size,no_of_rand_pix_selec,nodes,ram_address_count,dis_number):\n",
    "        self.input_size = input_size\n",
    "        self.no_of_rand_pix_selec = no_of_rand_pix_selec\n",
    "        self.nodes = nodes\n",
    "        self.ram_address_count = ram_address_count\n",
    "        self.dis_number = dis_number \n",
    "\n",
    "\n",
    "    def discriminator(self):\n",
    "        discriminator = []\n",
    "        accumulated_pos = []\n",
    "        my_list = list(range(0,self.input_size))\n",
    "        for i in range(self.dis_number):  #10\n",
    "            ram = []\n",
    "            random.shuffle(my_list)\n",
    "            for j in range((int)((self.nodes))): #98    \n",
    "                total_pos = []            \n",
    "                positions = []\n",
    "                positions = my_list[j*no_of_rand_pix_selec:j*no_of_rand_pix_selec+no_of_rand_pix_selec]\n",
    "                accumulated_pos.append(positions)\n",
    "                total_pos = np.vstack(positions)\n",
    "                #print(total_pos)\n",
    "                table = []\n",
    "                dictionary = {}\n",
    "                \n",
    "                max = len(\"{0:b}\".format(2**len(total_pos))) - 1\n",
    "                for i in range(2**len(total_pos)):\n",
    "                    x = (('0' * max) + \"{0:b}\".format(i))\n",
    "                    x = x[len(x)-max:]\n",
    "                    dictionary[x] = 0\n",
    "                table.append(dictionary)\n",
    "                #print(table)\n",
    "                ram.append(table)\n",
    "        \n",
    "            di = []\n",
    "            for j in range(len(ram)):\n",
    "                for i in range(len(ram[j])):\n",
    "                    for key, value in ram[j][i].items():\n",
    "                        temp = [key,value]\n",
    "                        di.append(temp)\n",
    "                        \n",
    "            discriminator.append(di)\n",
    "    \n",
    "        discriminator = np.asarray(discriminator).astype(np.int32)\n",
    "        accumulated_pos = np.asarray(accumulated_pos).astype(np.int32)\n",
    "        return discriminator, accumulated_pos\n",
    "    \n",
    "                        \n",
    "    \n",
    "    @staticmethod\n",
    "    @njit(parallel = True)\n",
    "    def train_with_bleeching(d,pos,x_train, y_train):\n",
    "        \n",
    "        images = x_train\n",
    "        lable = y_train    \n",
    "        \n",
    "        for i in range(len(images)):\n",
    "            image = images[i]\n",
    "            num = lable[i]\n",
    "            all_ram_of_selected_discriminator = d[num]\n",
    "            t_ratina = pos[(int)(nodes*num):(int)(nodes*num+nodes)]\n",
    "            \n",
    "            for i in range((int)(nodes)):\n",
    "                part = all_ram_of_selected_discriminator[(ram_address_count*i):(ram_address_count*i+ram_address_count)]\n",
    "                ratina_for_one_ram = t_ratina[i]\n",
    "                \n",
    "                #threshold = 0               \n",
    "                n = []                                                                \n",
    "                for ix in range(len(ratina_for_one_ram)):\n",
    "                    pix = ratina_for_one_ram[ix]\n",
    "                    if image[(pix-1)]>=1:\n",
    "                        n.append(1)\n",
    "                        #threshold = threshold + 1     \n",
    "                    else:\n",
    "                        n.append(0)\n",
    "                \n",
    "                num = 0\n",
    "                for i in range(no_of_rand_pix_selec):\n",
    "                    num = (n[i])*(10**((no_of_rand_pix_selec-1)-i)) + num\n",
    "            \n",
    "                address_of_that_ram = (int)(num)\n",
    "                for key in range(ram_address_count):\n",
    "                    index = part[key]\n",
    "                    #if threshold >= 1:          \n",
    "                    if index[0] == address_of_that_ram:\n",
    "                        index[1] += 1\n",
    "                    else:\n",
    "                        if index[1] != 0:\n",
    "                            index[1] -= 1\n",
    "\n",
    "\n",
    "\n",
    "    #@vectorize(['int32(int32,int32,int32,int32)'], target = 'cuda')\n",
    "    @staticmethod\n",
    "    @njit(parallel = True)\n",
    "    def test_with_bleaching(d,pos,x_test,y_test):\n",
    "        right = 0\n",
    "        wrong = 0\n",
    "        images = x_test\n",
    "        lable = y_test\n",
    "        ct = 0.02\n",
    "        b=1\n",
    "        \n",
    "        for i in range(len(images)):\n",
    "            image = images[i]\n",
    "            actual_lable = lable[i]\n",
    "            \n",
    "            total_sum=[]\n",
    "            \n",
    "            for ix in range(dis_number):\n",
    "                \n",
    "                t_ratina = pos[int((nodes*ix)):(int)((nodes*ix+nodes))]\n",
    "                \n",
    "                sum_of_ram_output = 0\n",
    "                dis = d[ix]\n",
    "                \n",
    "                for i in range(int(nodes)):\n",
    "                    part = dis[(ram_address_count*i):(ram_address_count*i+ram_address_count)]\n",
    "                    ratina_for_one_ram = t_ratina[i]\n",
    "                    \n",
    "                    n = []                                                                \n",
    "                    for pix in ratina_for_one_ram:\n",
    "                        if image[(pix-1)]>=1:\n",
    "                            n.append(1)\n",
    "                        else:\n",
    "                            n.append(0)\n",
    "                    \n",
    "                    num = 0\n",
    "                    for i in range(no_of_rand_pix_selec):\n",
    "                        num = (n[i])*(10**((no_of_rand_pix_selec-1)-i)) + num\n",
    "                    \n",
    "                    address_of_that_ram = (int)(num)\n",
    "                \n",
    "                    for key in range(len(part)):\n",
    "                        prt = part[key]\n",
    "                        if prt[0] == address_of_that_ram and prt[1]>=b:           #have to change this\n",
    "                            sum_of_ram_output += 1\n",
    "                \n",
    "                total_sum.append(sum_of_ram_output)        \n",
    "        \n",
    "            max_sum = 0\n",
    "            sec_max = 0\n",
    "            idx = 0\n",
    "            \n",
    "            for i in range(len(total_sum)):\n",
    "                if max_sum < total_sum[i]:\n",
    "                    max_sum = total_sum[i]\n",
    "                    idx = i\n",
    "                    \n",
    "            for j in range(len(total_sum)):\n",
    "                if sec_max < total_sum[j] and j!=idx:\n",
    "                    sec_max = total_sum[j]\n",
    "                    \n",
    "            index_of_dis = idx\n",
    "            if index_of_dis == actual_lable:\n",
    "                right += 1\n",
    "            else:\n",
    "                wrong += 1\n",
    "            \n",
    "            if max_sum == sec_max:\n",
    "                confidence = 0\n",
    "            else:\n",
    "                confidence = 1 - float(sec_max)/float(max_sum)\n",
    "                if confidence < ct:\n",
    "                    b += 1\n",
    "        \n",
    "        return right,wrong"
   ]
  },
  {
   "cell_type": "code",
   "execution_count": 6,
   "metadata": {},
   "outputs": [],
   "source": [
    "input_size = 28*28\n",
    "no_of_rand_pix_selec = 2**(3)     ## ** (must) no_of_rand_pix_selec = 2^(n) where n is 0,1,2...\n",
    "nodes = int(input_size/no_of_rand_pix_selec)    #98\n",
    "ram_address_count = 2**(no_of_rand_pix_selec)   #256\n",
    "dis_number = 10                #10 i.e number of lables"
   ]
  },
  {
   "cell_type": "code",
   "execution_count": 7,
   "metadata": {},
   "outputs": [],
   "source": [
    "(tx_train, ty_train), (tx_test, ty_test) = tf.keras.datasets.mnist.load_data()\n",
    "px_train, py_train, px_test, py_test = preprocessing(tx_train, ty_train, tx_test, ty_test)"
   ]
  },
  {
   "cell_type": "code",
   "execution_count": 8,
   "metadata": {},
   "outputs": [
    {
     "name": "stdout",
     "output_type": "stream",
     "text": [
      "(10, 25088, 2)\n"
     ]
    }
   ],
   "source": [
    "w = WiSARD(input_size,no_of_rand_pix_selec,nodes,ram_address_count,dis_number)\n",
    "d, acc_pos = w.discriminator()\n",
    "print(d.shape)"
   ]
  },
  {
   "cell_type": "code",
   "execution_count": 9,
   "metadata": {},
   "outputs": [
    {
     "name": "stdout",
     "output_type": "stream",
     "text": [
      "time train =  19.105674028396606\n"
     ]
    }
   ],
   "source": [
    "starttrain = time.time()\n",
    "w.train_with_bleeching(d,acc_pos,px_train[0:60000],py_train[0:60000])\n",
    "endtrain = time.time()\n",
    "print(\"time train = \",endtrain - starttrain)"
   ]
  },
  {
   "cell_type": "code",
   "execution_count": 10,
   "metadata": {},
   "outputs": [
    {
     "name": "stdout",
     "output_type": "stream",
     "text": [
      "time test =  31.591220378875732\n"
     ]
    }
   ],
   "source": [
    "starttest = time.time()\n",
    "right,wrong = w.test_with_bleaching(d,acc_pos,px_test[0:10000],py_test[0:10000])\n",
    "endtest = time.time()\n",
    "print(\"time test = \",endtest - starttest)"
   ]
  },
  {
   "cell_type": "code",
   "execution_count": 11,
   "metadata": {},
   "outputs": [
    {
     "name": "stdout",
     "output_type": "stream",
     "text": [
      "number of right result =  5612\n",
      "number of wrong results =  4388\n",
      "accuracy by testing the model = 56.120000000000005\n"
     ]
    }
   ],
   "source": [
    "print(\"number of right result = \",right)\n",
    "print(\"number of wrong results = \",wrong)\n",
    "accuracy = ((right)/(right+wrong))*100\n",
    "print(\"accuracy by testing the model =\",accuracy)\n",
    "#    end = time.time()\n",
    "#    print(\"total time = \",end - start)"
   ]
  },
  {
   "cell_type": "code",
   "execution_count": null,
   "metadata": {},
   "outputs": [],
   "source": []
  }
 ],
 "metadata": {
  "kernelspec": {
   "display_name": "Python 3",
   "language": "python",
   "name": "python3"
  },
  "language_info": {
   "codemirror_mode": {
    "name": "ipython",
    "version": 3
   },
   "file_extension": ".py",
   "mimetype": "text/x-python",
   "name": "python",
   "nbconvert_exporter": "python",
   "pygments_lexer": "ipython3",
   "version": "3.6.6"
  }
 },
 "nbformat": 4,
 "nbformat_minor": 2
}
